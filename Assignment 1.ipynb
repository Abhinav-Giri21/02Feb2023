{
 "cells": [
  {
   "cell_type": "markdown",
   "metadata": {},
   "source": [
    "Q1.Explain with an example each when to use a for loop and a while loop.\n",
    "\n",
    "Ans.For loop should be used in a program when we know the number of iterations the loop should be executed.\n",
    "    example:\n",
    "    CODE-\n",
    "    for x in range(5):\n",
    "        print(x)\n",
    "    OUTPUT-\n",
    "    0\n",
    "    1\n",
    "    2\n",
    "    3\n",
    "    4\n",
    "    While loop should we used in a program when we want to execute the loop till the condition specified becomes false.\n",
    "    example:\n",
    "    CODE-\n",
    "    n=32\n",
    "    while(n!=0):\n",
    "         print(n%10)\n",
    "         n=n//10\n",
    "    OUTPUT:\n",
    "    2\n",
    "    3"
   ]
  },
  {
   "cell_type": "code",
   "execution_count": 1,
   "metadata": {},
   "outputs": [
    {
     "name": "stdout",
     "output_type": "stream",
     "text": [
      "Sum= 55\n",
      "Product= 3628800\n",
      "Sum= 55\n",
      "Product= 3628800\n"
     ]
    }
   ],
   "source": [
    "#Q2.Write a python program to print the sum and product of the first 10 natural numbers using for and while loop.\n",
    "s=0\n",
    "p=1\n",
    "for x in range(1,11):\n",
    "    s=s+x\n",
    "    p=p*x\n",
    "print(\"Sum=\",s)\n",
    "print(\"Product=\",p)\n",
    "\n",
    "s=0\n",
    "p=1\n",
    "i=1\n",
    "while(i<=10):\n",
    "    s=s+i\n",
    "    p=p*i\n",
    "    i+=1\n",
    "print(\"Sum=\",s)\n",
    "print(\"Product=\",p)"
   ]
  },
  {
   "cell_type": "code",
   "execution_count": 2,
   "metadata": {},
   "outputs": [
    {
     "name": "stdin",
     "output_type": "stream",
     "text": [
      "Enter the unit consumed: 310\n"
     ]
    },
    {
     "name": "stdout",
     "output_type": "stream",
     "text": [
      "Charges: 2250.0\n"
     ]
    }
   ],
   "source": [
    "'''Q3.Create a python program to compute the electricity bill for a household.\n",
    "The per-unit charges in rupees are as follows: For the first 100 units, the user will be charged Rs. 4.5 per\n",
    "unit, for the next 100 units, the user will be charged Rs. 6 per unit, and for the next 100 units, the user will\n",
    "be charged Rs. 10 per unit, After 300 units and above the user will be charged Rs. 20 per unit.'''\n",
    "unit=int(input(\"Enter the unit consumed:\"))\n",
    "if(unit<=100):\n",
    "    charges=unit*4.5\n",
    "elif(unit>100 and unit<=200):\n",
    "    charges=100*4.5+(unit-100)*6\n",
    "elif(unit>200 and unit<=300):\n",
    "    charges=100*4.5+100*6+(unit-200)*10\n",
    "else:\n",
    "    charges=100*4.5+100*6+100*10+(unit-300)*20\n",
    "print(\"Charges:\",charges)\n"
   ]
  },
  {
   "cell_type": "code",
   "execution_count": 3,
   "metadata": {},
   "outputs": [
    {
     "name": "stdout",
     "output_type": "stream",
     "text": [
      "List: [2, 4, 5, 6, 8, 10, 12, 14, 15, 16, 18, 20, 22, 24, 25, 26, 28, 30, 32, 34, 35, 36, 38, 40, 42, 44, 45, 46, 48, 50, 52, 54, 55, 56, 58, 60, 62, 64, 65, 66, 68, 70, 72, 74, 75, 76, 78, 80, 82, 84, 85, 86, 88, 90, 92, 94, 95, 96, 98, 100]\n",
      "List: [2, 4, 5, 6, 8, 10, 12, 14, 15, 16, 18, 20, 22, 24, 25, 26, 28, 30, 32, 34, 35, 36, 38, 40, 42, 44, 45, 46, 48, 50, 52, 54, 55, 56, 58, 60, 62, 64, 65, 66, 68, 70, 72, 74, 75, 76, 78, 80, 82, 84, 85, 86, 88, 90, 92, 94, 95, 96, 98, 100]\n"
     ]
    }
   ],
   "source": [
    "'''Q4. Create a list of numbers from 1 to 100. Use for loop and while loop to calculate the cube of each\n",
    "number and if the cube of that number is divisible by 4 or 5 then append that number in a list and print\n",
    "that list.'''\n",
    "l=[]\n",
    "for x in range(1,101):\n",
    "    if((x**3)%4==0 or (x**3)%5==0):\n",
    "        l.append(x)\n",
    "print(\"List:\",l)\n",
    "l=[]\n",
    "i=1\n",
    "while(i<=100):\n",
    "    if((i**3)%4==0 or (i**3)%5==0):\n",
    "        l.append(i)\n",
    "    i+=1\n",
    "print(\"List:\",l)"
   ]
  },
  {
   "cell_type": "code",
   "execution_count": 4,
   "metadata": {},
   "outputs": [
    {
     "name": "stdout",
     "output_type": "stream",
     "text": [
      "Vowels in I want to become a data scientist are: 12\n"
     ]
    }
   ],
   "source": [
    "'''Q5.Write a program to filter count vowels in the below-given string.\n",
    "string = \"I want to become a data scientist\"'''\n",
    "string=\"I want to become a data scientist\"\n",
    "vowel=\"aeiouAEIOU\"\n",
    "s=0\n",
    "for x in string:\n",
    "    if x in vowel:\n",
    "        s+=1\n",
    "print(\"Vowels in\",string,\"are:\",s)"
   ]
  }
 ],
 "metadata": {
  "kernelspec": {
   "display_name": "Python 3 (ipykernel)",
   "language": "python",
   "name": "python3"
  },
  "language_info": {
   "codemirror_mode": {
    "name": "ipython",
    "version": 3
   },
   "file_extension": ".py",
   "mimetype": "text/x-python",
   "name": "python",
   "nbconvert_exporter": "python",
   "pygments_lexer": "ipython3",
   "version": "3.9.2"
  }
 },
 "nbformat": 4,
 "nbformat_minor": 4
}
